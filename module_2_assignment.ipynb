{
 "cells": [
  {
   "cell_type": "markdown",
   "id": "2c771269",
   "metadata": {},
   "source": [
    "# AISHA AJAO"
   ]
  },
  {
   "cell_type": "markdown",
   "id": "7d17c003-b142-4e1a-b48f-21d29ec3dbaa",
   "metadata": {
    "id": "7d17c003-b142-4e1a-b48f-21d29ec3dbaa"
   },
   "source": [
    "# Module 2 (Assignment)"
   ]
  },
  {
   "cell_type": "markdown",
   "id": "0db491cd",
   "metadata": {},
   "source": [
    "### Qs. 1"
   ]
  },
  {
   "cell_type": "markdown",
   "id": "3c5971c9",
   "metadata": {
    "id": "ad9150c6-90a8-4dfa-81b2-c0c4365012ac",
    "scrolled": true
   },
   "source": [
    "### Ans 1a.\n",
    " Write a function called `make_album()` that builds a dictionary describing a music album. The function should take in an artist name and an\n",
    "album title, and it should return a dictionary containing these two pieces of information. Use the function to make three dictionaries representing different albums. \n",
    "Print each return value to show that the dictionaries are storing the \n",
    "album information correctly."
   ]
  },
  {
   "cell_type": "code",
   "execution_count": 10,
   "id": "9e5efdfa",
   "metadata": {},
   "outputs": [
    {
     "name": "stdout",
     "output_type": "stream",
     "text": [
      "{'Artist': 'Harry Styles', 'Album': 'Harrys House'}\n",
      "{'Artist': 'Kizz Daniel', 'Album': 'Where We Come From'}\n",
      "{'Artist': 'Tope Alabi', 'Album': 'Yes And Amen'}\n"
     ]
    }
   ],
   "source": [
    "def make_album(artist_name, album_title):\n",
    "    \n",
    "    album_dict = {'Artist': artist_name.title(),'Album': album_title.title()}\n",
    "    return album_dict\n",
    "\n",
    "album = make_album('Harry Styles', 'Harrys House')\n",
    "print(album)\n",
    "\n",
    "album = make_album('Kizz Daniel', 'Where we come from')\n",
    "print(album)\n",
    "\n",
    "album = make_album('Tope Alabi', 'Yes and Amen')\n",
    "print(album)"
   ]
  },
  {
   "cell_type": "markdown",
   "id": "85e4c87d",
   "metadata": {},
   "source": [
    "### Ans 1b.\n",
    " Use `None` to add an optional parameter to `make_album()` that allows you to store the number of songs on an album. If the calling line includes a value for\n",
    "the number of songs, add that value to the album’s dictionary. Make at least one new function call that includes the number of songs on an album."
   ]
  },
  {
   "cell_type": "code",
   "execution_count": 24,
   "id": "980c2d99",
   "metadata": {},
   "outputs": [
    {
     "name": "stdout",
     "output_type": "stream",
     "text": [
      "{'Artist': 'Harry Styles', 'Album': 'Harrys House', 'songs': 8}\n",
      "{'Artist': 'Kizz Daniel', 'Album': 'Where We Come From', 'songs': 4}\n",
      "{'Artist': 'Tope Alabi', 'Album': 'Yes And Amen', 'songs': 5}\n"
     ]
    }
   ],
   "source": [
    "def make_album(artist_name, album_title, songs=None):\n",
    "    \n",
    "    album_dict = {'Artist': artist_name.title(),'Album': album_title.title()}\n",
    "    if songs:\n",
    "        album_dict['songs'] = songs\n",
    "    return album_dict\n",
    "\n",
    "album = make_album('Harry Styles', 'Harrys House' , songs=8)\n",
    "print(album)\n",
    "\n",
    "album = make_album('Kizz Daniel', 'Where we come from', songs=4)\n",
    "print(album)\n",
    "\n",
    "album = make_album('Tope Alabi', 'Yes and Amen', songs=5)\n",
    "print(album)\n"
   ]
  },
  {
   "cell_type": "markdown",
   "id": "fe1661b5",
   "metadata": {},
   "source": [
    "### Ans 1c.\n",
    "Write an updated version of the function above called `make_album_updated()` that accepts the ***required*** arguments `artist_name`, `album_title`, `num_of_songs` and some ***arbitrary optional*** arguments like `year_released`, etc."
   ]
  },
  {
   "cell_type": "markdown",
   "id": "d7084130-c60d-4f91-9bea-a4426b620935",
   "metadata": {
    "id": "d7084130-c60d-4f91-9bea-a4426b620935"
   },
   "source": [
    "### Qs 2. \n",
    "\n",
    "* Write an `if-elif-else` chain that determines a person’s stage of life. Set a value for the variable `age`, and then:\n",
    "    * If the person is ***less than 2 years old***, print a message that the person is a ***baby***.\n",
    "    * If the person is ***at least 2 years old but less than 4***, print a message that the person is a ***toddler***.\n",
    "    * If the person is ***at least 4 years old but less than 13***, print a message that the person is a ***kid***.\n",
    "    * If the person is ***at least 13 years old but less than 20***, print a message that the person is a ***teenager***.\n",
    "    * If the person is ***at least 20 years old but less than 65***, print a message that the person is an ***adult***.\n",
    "    * If the person is ***age 65 or older***, print a message that the person is an ***elder***."
   ]
  },
  {
   "cell_type": "markdown",
   "id": "9fc389ec",
   "metadata": {
    "id": "97c56b2a-1395-4894-be9f-7739aa190dea",
    "scrolled": true
   },
   "source": [
    "### Ans\n"
   ]
  },
  {
   "cell_type": "code",
   "execution_count": 25,
   "id": "6eaa1d08",
   "metadata": {},
   "outputs": [
    {
     "name": "stdout",
     "output_type": "stream",
     "text": [
      "You're an adult!\n"
     ]
    }
   ],
   "source": [
    "age = 33\n",
    "\n",
    "if age < 2:\n",
    "    print(\"You're a baby!\")\n",
    "elif age < 4:\n",
    "    print(\"You're a toddler!\")\n",
    "elif age < 13:\n",
    "    print(\"You're a kid!\")\n",
    "elif age < 20:\n",
    "    print(\"You're a teenager!\")\n",
    "elif age < 65:\n",
    "    print(\"You're an adult!\")\n",
    "else:\n",
    "    print(\"You're an elder!\")"
   ]
  },
  {
   "cell_type": "markdown",
   "id": "e9728419-f5b9-47c2-bca4-161094de2718",
   "metadata": {
    "id": "e9728419-f5b9-47c2-bca4-161094de2718"
   },
   "source": [
    "### Qs 3. \n",
    "Given the string **\"For the winter break I had a list of stories I wanted to write\"**. Write a program that:\n",
    "\n",
    "a. creates a ***list*** containing each word as an element in the list.\n",
    "\n",
    "b. turns all the ***words*** in the string to ***title casing***.\n",
    "\n",
    "c. turns all the ***words*** in the string to ***upper casing***."
   ]
  },
  {
   "cell_type": "markdown",
   "id": "71c23b75",
   "metadata": {},
   "source": [
    "### Ans 3a.\n",
    "Creates a ***list*** containing each word as an element in the list.\n",
    "\n"
   ]
  },
  {
   "cell_type": "code",
   "execution_count": 28,
   "id": "5aec5259-59b8-4d3b-9724-4307c90f4ed3",
   "metadata": {
    "id": "5aec5259-59b8-4d3b-9724-4307c90f4ed3",
    "scrolled": true
   },
   "outputs": [
    {
     "name": "stdout",
     "output_type": "stream",
     "text": [
      "['For', 'the', 'winter', 'break', 'I', 'had', 'a', 'list', 'of', 'stories', 'I', 'wanted', 'to', 'write']\n"
     ]
    }
   ],
   "source": [
    "a = \"For the winter break I had a list of stories I wanted to write\"\n",
    "x = a.split()\n",
    "\n",
    "print (x)"
   ]
  },
  {
   "cell_type": "markdown",
   "id": "7612d6de",
   "metadata": {},
   "source": [
    "### Ans 3b.\n",
    "Turns all the ***words*** in the string to ***title casing***.\n"
   ]
  },
  {
   "cell_type": "code",
   "execution_count": 29,
   "id": "57495c7d",
   "metadata": {},
   "outputs": [
    {
     "data": {
      "text/plain": [
       "'For The Winter Break I Had A List Of Stories I Wanted To Write'"
      ]
     },
     "execution_count": 29,
     "metadata": {},
     "output_type": "execute_result"
    }
   ],
   "source": [
    "a = \"For the winter break I had a list of stories I wanted to write\"\n",
    "y = a.title()\n",
    "y"
   ]
  },
  {
   "cell_type": "markdown",
   "id": "d1b7cd16",
   "metadata": {},
   "source": [
    "### Ans 3c.\n",
    "\n",
    "Turns all the ***words*** in the string to ***upper casing***."
   ]
  },
  {
   "cell_type": "code",
   "execution_count": 32,
   "id": "3470bcf6",
   "metadata": {},
   "outputs": [
    {
     "data": {
      "text/plain": [
       "'FOR THE WINTER BREAK I HAD A LIST OF STORIES I WANTED TO WRITE'"
      ]
     },
     "execution_count": 32,
     "metadata": {},
     "output_type": "execute_result"
    }
   ],
   "source": [
    "z = a.upper()\n",
    "z"
   ]
  },
  {
   "cell_type": "markdown",
   "id": "267642c5-69c1-4dd2-8c86-01b1b981ace7",
   "metadata": {
    "id": "267642c5-69c1-4dd2-8c86-01b1b981ace7"
   },
   "source": [
    "### Qs 4. \n",
    "Make a dictionary called `cities`. Use the names of three cities as keys in your dictionary. Create a dictionary of information about each city and\n",
    "include the country that the city is in, its approximate population, and one fact about that city. The keys for each city’s dictionary should be something like\n",
    "***country***, ***population***, and ***fact***. Print the name of each city and all of the information you have stored about it."
   ]
  },
  {
   "cell_type": "code",
   "execution_count": 41,
   "id": "c8fd468d-bcd7-4f51-afff-b4cf573aac70",
   "metadata": {
    "id": "c8fd468d-bcd7-4f51-afff-b4cf573aac70",
    "scrolled": true
   },
   "outputs": [
    {
     "name": "stdout",
     "output_type": "stream",
     "text": [
      "{'country': 'Nigeria', 'population': 15388000, 'fact': \"Lagos handles 80% of the Nigeria's imports\"}\n",
      "{'country': 'France', 'population': 2161000, 'fact': 'Paris Is Referred To As The City Of Light'}\n",
      "{'country': 'Japan', 'population': 13960000, 'fact': \"Tokyo is the world's most populous metropolitan area\"}\n"
     ]
    }
   ],
   "source": [
    "cities = {'Lagos': {'country': 'Nigeria','population': 15388000,'fact': \"Lagos handles 80% of the Nigeria's imports\" },\n",
    "         'Paris': {'country': 'France','population': 2161000,'fact': 'Paris Is Referred To As The City Of Light' },\n",
    "         'Tokyo': {'country': 'Japan','population': 13960000,'fact': \"Tokyo is the world's most populous metropolitan area\"},}\n",
    "\n",
    "print(cities['Lagos'])\n",
    "print(cities['Paris'])\n",
    "print(cities['Tokyo'])"
   ]
  },
  {
   "cell_type": "markdown",
   "id": "006cd37a-9d4b-4b4e-a1b7-5a4252c9bb46",
   "metadata": {
    "id": "006cd37a-9d4b-4b4e-a1b7-5a4252c9bb46",
    "tags": []
   },
   "source": [
    "### Qs 5. \n",
    "Write a Python function called `calculate_length_of_dict_values()` to find the ***length*** of a given dictionary values. \n",
    "e.g\n",
    "\n",
    "```Python\n",
    "my_dict = {1: 'red', 2: 'green', 3: 'black', 4: 'white'}\n",
    "\n",
    "calculate_length_of_dict_values(my_dict)\n",
    "```\n",
    "**`Output`**:\n",
    "```Python\n",
    "{'red': 3, 'green': 5, 'black': 5, 'white': 5}\n",
    "```"
   ]
  },
  {
   "cell_type": "code",
   "execution_count": 50,
   "id": "11b77e0d-9065-4e27-aaf2-d23473c48e3e",
   "metadata": {
    "id": "11b77e0d-9065-4e27-aaf2-d23473c48e3e",
    "scrolled": true
   },
   "outputs": [],
   "source": [
    "def calculate_length_of_dict_values(dictionary):\n",
    "    an_empty_dict ={}\n",
    "    for value in dictionary:\n",
    "        if dictionary[value] in an_empty_dict:\n",
    "            an_empty_dict = {}\n",
    "        else:\n",
    "            an_empty_dict[dictionary[value]] = len(dictionary[value])\n",
    "        print(an_empty_dict)\n",
    "        \n",
    "        my_dict = {1: 'red', 2: 'green', 3: 'black', 4: 'white'}\n",
    "        calculate_length_of_dict_values(my_dict)\n"
   ]
  },
  {
   "cell_type": "markdown",
   "id": "27539883-af94-46d2-bdad-def7a42dccdf",
   "metadata": {
    "id": "27539883-af94-46d2-bdad-def7a42dccdf"
   },
   "source": [
    "### Qs 6. \n",
    "Given the dict: \n",
    "\n",
    "```Python\n",
    "my_dict = {\n",
    "    \"isbn\": \"123-456-222\",\n",
    "    \"author\": {\"lastname\": \"Doe\", \"firstname\": \"Jane\"},\n",
    "    \"editor\": {\"lastname\": \"Smith\", \"firstname\": \"Jane\"},\n",
    "    \"title\": \"The Ultimate Database Study Guide\",\n",
    "    \"category\": [\"Non-Fiction\", \"Technology\"],\n",
    "}\n",
    "```\n",
    "\n",
    "a. select the category `Technology`.\n",
    "\n",
    "b. select the editior's `firstname`."
   ]
  },
  {
   "cell_type": "markdown",
   "id": "cc6747bc",
   "metadata": {},
   "source": [
    "### Ans. 6"
   ]
  },
  {
   "cell_type": "code",
   "execution_count": 53,
   "id": "e8d00a8a-7462-487f-8527-717d75458abd",
   "metadata": {
    "id": "e8d00a8a-7462-487f-8527-717d75458abd",
    "scrolled": true
   },
   "outputs": [
    {
     "name": "stdout",
     "output_type": "stream",
     "text": [
      "Technology\n",
      "Jane\n"
     ]
    }
   ],
   "source": [
    "my_dict = {\n",
    "    \"isbn\": \"123-456-222\",\n",
    "    \"author\": {\"lastname\": \"Doe\", \"firstname\": \"Jane\"},\n",
    "    \"editor\": {\"lastname\": \"Smith\", \"firstname\": \"Jane\"},\n",
    "    \"title\": \"The Ultimate Database Study Guide\",\n",
    "    \"category\": [\"Non-Fiction\", \"Technology\"],\n",
    "}\n",
    "print(my_dict.get('category', [])[1])\n",
    "print(my_dict.get('editor',{}).get('firstname'))\n"
   ]
  },
  {
   "cell_type": "code",
   "execution_count": null,
   "id": "1d86401d-74e3-4f10-b30c-d4411f0ae05b",
   "metadata": {
    "id": "1d86401d-74e3-4f10-b30c-d4411f0ae05b",
    "scrolled": true
   },
   "outputs": [],
   "source": []
  }
 ],
 "metadata": {
  "colab": {
   "collapsed_sections": [],
   "provenance": []
  },
  "kernelspec": {
   "display_name": "Python 3 (ipykernel)",
   "language": "python",
   "name": "python3"
  },
  "language_info": {
   "codemirror_mode": {
    "name": "ipython",
    "version": 3
   },
   "file_extension": ".py",
   "mimetype": "text/x-python",
   "name": "python",
   "nbconvert_exporter": "python",
   "pygments_lexer": "ipython3",
   "version": "3.9.13"
  }
 },
 "nbformat": 4,
 "nbformat_minor": 5
}
