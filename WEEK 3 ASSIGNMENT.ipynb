{
 "cells": [
  {
   "cell_type": "markdown",
   "id": "2bb6a2b9",
   "metadata": {},
   "source": [
    "# AISHA AJAO\n"
   ]
  },
  {
   "cell_type": "markdown",
   "id": "08ef1ffa",
   "metadata": {},
   "source": [
    "## Module 3 ASSIGNMENT"
   ]
  },
  {
   "cell_type": "code",
   "execution_count": 3,
   "id": "5c2564be",
   "metadata": {},
   "outputs": [],
   "source": [
    "#import sqlite, create connection and cursor object\n",
    "\n",
    "import sqlite3\n",
    "\n",
    "conn = sqlite3.connect(\"employees.db\")\n",
    "\n",
    "cursor = conn.cursor()"
   ]
  },
  {
   "cell_type": "markdown",
   "id": "5049bcbb",
   "metadata": {},
   "source": [
    "### 1. - Create Table Columns"
   ]
  },
  {
   "cell_type": "markdown",
   "id": "1a7eb349",
   "metadata": {},
   "source": [
    "cursor.execute (\"\"\"\n",
    "CREATE TABLE employee\n",
    "(\n",
    "employee_id INT PRIMARY KEY,\n",
    "last_name TEXT,\n",
    "first_name TEST, \n",
    "postion TEXT,\n",
    "salary REAL,\n",
    "date_hire DATE\n",
    ")\n",
    "\"\"\")\n",
    "print (\"Table created successfully\")"
   ]
  },
  {
   "cell_type": "markdown",
   "id": "fc05b4e5",
   "metadata": {},
   "source": [
    "### 1a-1f Populating Data into Table (rows)"
   ]
  },
  {
   "cell_type": "code",
   "execution_count": 7,
   "id": "7d3becdf",
   "metadata": {},
   "outputs": [
    {
     "name": "stdout",
     "output_type": "stream",
     "text": [
      "Exactly 62 recordshas been inserted to the table\n"
     ]
    }
   ],
   "source": [
    "employee_list = [\n",
    "                 (1, \"Lew\", \"Allen\", \"City Administrator\", 295000, 2004),\n",
    "                 (2, \"Sessoms\", \"Allen\", \"President\", 295000, 2008),\n",
    "                 (3, \"HENDERSON\", \"KAYATANYA\", \"Superintendent Of Schools\", 275000, 2007),\n",
    "                 (4, \"Lanier\", \"Cathy\", \"Chief\", 230743, 19090),\n",
    "                 (5, \"Arons\", \"Bernard\", \"Medical Officer Psych\", 206000, 2008),\n",
    "                 (6, \"Ritchie\", \"Elspeth\", \"Medical Officer Psych\", 206000, 2010),\n",
    "                 (7, \"GRAY\", \"VINCENT\", \"Mayor\", 200000, 2005),\n",
    "                 (8, \"Marshall\", \"Katherine\", \"Medical Officer Psych\", 200000, 2008),\n",
    "                 (9, \"Gandhi\", \"Natwar\", \"Chief Financial Officer\", 199700, 1997),\n",
    "                 (10, \"DUNCAN\", \"LORETTA\", \"Workers Compensation Recipient\", 197808, 1984),\n",
    "                 (11, \"Baxter\", \"Graeme\", \"Act Provost & Vp Acd Aff\", 196257, 2008),\n",
    "                 (12, \"Miramontes\", \"David\", \"Medical Director\", 193125, 2011),\n",
    "                 (13, \"Graves\", \"Warren\", \"Chief Of Staff\", 193125, 2011),\n",
    "                 (14, \"Stanchfield\", \"Eric\", \"Executive Director\", 193125, 2007),\n",
    "                 (15, \"Jones\", \"Tyler\", \"Medical Officer Psych\", 190550, 2008),\n",
    "                 (16, \"BROWN\", \"KWAME\", \"Chairman\", 190000, 2005),\n",
    "                 (17, \"Eure\", \"Philip\", \"Executive Director\", 188692, 2000),\n",
    "                 (18, \"Cooper\", \"Ginnie\", \"Executive Director\", 188044, 2006),\n",
    "                 (19, \"Yadao\", \"Nilda\", \"Medical Officer (psychiatry)\", 188027, 1987),\n",
    "                 (20, \"Ellerbe\", \"Kenneth\", \"Fire Chief\", 187302, 2003),\n",
    "                 (21, \"Ruland\", \"Jeffrey\", \"Dir Of The Ctr For Wf Str & Ec\", 186911, 2009),\n",
    "                 (22, \"Parker\", \"Craig\", \"General Counsel\", 186911, 2009),\n",
    "                 (23, \"Farley\", \"Mark\", \"Vp, Human Resources\", 186911, 2008),\n",
    "                 (24, \"Otero\", \"Beatriz\", \"Dep Mayor For Hlth & Hum Svcs\", 185000, 2011),\n",
    "                 (25, \"Quander\", \"Paul\", \"Deputy Mayor\", 185000, 2009),\n",
    "                 (26, \"Pierre\", \"Louis Marie\", \"Chief Medical Examiner\", 185000, 1985),\n",
    "                 (27, \"Pestaner\", \"Joseph\", \"Medical Officer (medical Examiner)\", 183892, 1997),\n",
    "                 (28, \"Revercomb\", \"Carolyn\", \"Medical Officer (medical Examiner)\", 183892, 2005),\n",
    "                 (29, \"Morgan\", \"Johnson Sheila\", \"Chief Investment Officer\", 183677, 1991),\n",
    "                 (30, \"Williamson\", \"Michael\", \"Deputy Director\", 182000, 2011),\n",
    "                 (31, \"White\", \"Mattie\", \"Medical Officer (psychiatry)\", 180604, 1989),\n",
    "                 (32, \"Park\", \"Kyung\", \"Medical Officer (psychiatry)\", 180604, 1987),\n",
    "                 (33, \"Gore\", \"T\", \"Medical Officer (psychiatry)\", 172101, 2005),\n",
    "                 (34, \"LUDWIG\", \"BENJAMIN\", \"Workers Compensation Recipient\", 171517, 1972),\n",
    "                 (35, \"Atdjian\", \"Sylvia\", \"Medical Officer (psychiatry)\", 170938, 2007),\n",
    "                 (36, \"Zaidi\", \"Syed\", \"Medical Officer (psychiatry)\", 170344, 2005),\n",
    "                 (37, \"Sherron\", \"Robert\", \"Medical Officer (psychiatry)\", 170344, 1991),\n",
    "                 (38, \"Johnson\", \"Nicole\", \"Medical Officer (psychiatry)\", 170344, 2007),\n",
    "                 (39, \"RUDA\", \"LISA\", \"Chief Of Staff\", 170000, 2007),\n",
    "                 (40, \"Beers\", \"Nathaniel\", \"Deputy Superintendent\", 170000, 2007),\n",
    "                 (41, \"Nuss\", \"Laura\", \"Director\", 170000, 2007),\n",
    "                 (42, \"Mancini\", \"Robert\", \"Acting Director\", 170000, 2004),\n",
    "                 (43, \"Wicker\", \"Henry\", \"Medical Officer Opthalmologist\", 168378, 1987),\n",
    "                 (44, \"Davenport\", \"Nancy\", \"Administrative Librarian\", 167200, 2006),\n",
    "                 (45, \"Jaji\", \"Abayomi\", \"Medical Officer (psychiatry)\", 167062, 2000),\n",
    "                 (46, \"Stevens\", \"KyleeAnn\", \"Medical Officer (psychiatry)\", 167051, 2008),\n",
    "                 (47, \"Smothers\", \"Kenneth\", \"Medical Officer (psychiatry)\", 166995, 1987),\n",
    "                 (48, \"Akhtar\", \"Saleha\", \"Medical Officer (psychiatry)\", 166995, 1988),\n",
    "                 (49, \"Singh\", \"Anjali\", \"Medical Officer (psychiatry)\", 166370, 1999),\n",
    "                 (50, \"Rahman\", \"Umar\", \"Medical Officer (psychiatry)\", 166370, 1996),\n",
    "                 (51, \"Adewale\", \"Benjamin\", \"Medical Officer (psychiatry)\", 166370, 1988),\n",
    "                 (52, \"Zaidi\", \"Syed\", \"Medical Officer General Practi\", 165842, 1983),\n",
    "                 (53, \"Jackson\", \"Kenneth\", \"Assistant Fire Chief Srvs\", 165306, 1982),\n",
    "                 (54, \"Berns\", \"David\", \"Dir Of Human Services\", 165200, 2011),\n",
    "                 (55, \"Cordi\", \"Stephen\", \"Deputy Cfo Otr\", 165162, 2008),\n",
    "                 (56, \"Mallory\", \"Lisa\", \"Acting Director\", 165000, 2004),\n",
    "                 (57, \"Flowers\", \"Brian\", \"General Counsel\", 165000, 1985),\n",
    "                 (58, \"Bellamy\", \"Terry\", \"Director\", 165000, 2008),\n",
    "                 (59, \"West\", \"Millicent\", \"Director, Homeland Sec & Ema\", 165000, 2003),\n",
    "                 (60, \"Pappas\", \"Gregory\", \"Deputy Dir\", 164800, 2011),\n",
    "                 (61, \"Altaf\", \"Samia\", \"Supervisor Medical Officer\", 164800, 2010),\n",
    "                 (62, \"Owens\", \"Karen\", \"Dental Officer\", 164800, 1989),\n",
    "                ]\n",
    "cursor.executemany(\"INSERT INTO employee VALUES(?, ?, ?, ?, ?, ?)\", employee_list)\n",
    "\n",
    "print (\"Exactly\", cursor.rowcount, \"recordshas been inserted to the table\")\n",
    "\n",
    "\n",
    "\n",
    "\n"
   ]
  },
  {
   "cell_type": "code",
   "execution_count": 8,
   "id": "72bd0db4",
   "metadata": {},
   "outputs": [],
   "source": [
    "conn.commit()"
   ]
  },
  {
   "cell_type": "markdown",
   "id": "f2fb8c2a",
   "metadata": {},
   "source": [
    "### 1g.  Write a query to get the ‘unique’ Position from employee table"
   ]
  },
  {
   "cell_type": "code",
   "execution_count": 10,
   "id": "45dd3244",
   "metadata": {},
   "outputs": [
    {
     "data": {
      "text/plain": [
       "[('City Administrator',),\n",
       " ('President',),\n",
       " ('Superintendent Of Schools',),\n",
       " ('Chief',),\n",
       " ('Medical Officer Psych',),\n",
       " ('Mayor',),\n",
       " ('Chief Financial Officer',),\n",
       " ('Workers Compensation Recipient',),\n",
       " ('Act Provost & Vp Acd Aff',),\n",
       " ('Medical Director',),\n",
       " ('Chief Of Staff',),\n",
       " ('Executive Director',),\n",
       " ('Chairman',),\n",
       " ('Medical Officer (psychiatry)',),\n",
       " ('Fire Chief',),\n",
       " ('Dir Of The Ctr For Wf Str & Ec',),\n",
       " ('General Counsel',),\n",
       " ('Vp, Human Resources',),\n",
       " ('Dep Mayor For Hlth & Hum Svcs',),\n",
       " ('Deputy Mayor',),\n",
       " ('Chief Medical Examiner',),\n",
       " ('Medical Officer (medical Examiner)',),\n",
       " ('Chief Investment Officer',),\n",
       " ('Deputy Director',),\n",
       " ('Deputy Superintendent',),\n",
       " ('Director',),\n",
       " ('Acting Director',),\n",
       " ('Medical Officer Opthalmologist',),\n",
       " ('Administrative Librarian',),\n",
       " ('Medical Officer General Practi',),\n",
       " ('Assistant Fire Chief Srvs',),\n",
       " ('Dir Of Human Services',),\n",
       " ('Deputy Cfo Otr',),\n",
       " ('Director, Homeland Sec & Ema',),\n",
       " ('Deputy Dir',),\n",
       " ('Supervisor Medical Officer',),\n",
       " ('Dental Officer',)]"
      ]
     },
     "execution_count": 10,
     "metadata": {},
     "output_type": "execute_result"
    }
   ],
   "source": [
    "query = \"\"\"\n",
    "SELECT DISTINCT postion\n",
    "FROM employee;\n",
    "\"\"\"\n",
    "\n",
    "cursor.execute(query)\n",
    "\n",
    "query_result = cursor.fetchall()\n",
    "query_result"
   ]
  },
  {
   "cell_type": "markdown",
   "id": "710e6344",
   "metadata": {},
   "source": [
    "### 2. Write a query to get the ‘unique’ Position from employee table"
   ]
  },
  {
   "cell_type": "code",
   "execution_count": 11,
   "id": "0e8eb304",
   "metadata": {},
   "outputs": [
    {
     "data": {
      "text/plain": [
       "<sqlite3.Cursor at 0x19dc8070dc0>"
      ]
     },
     "execution_count": 11,
     "metadata": {},
     "output_type": "execute_result"
    }
   ],
   "source": [
    "query = \"\"\"\n",
    "SELECT * FROM employee\n",
    "ORDER BY first_name DESC;\n",
    "\"\"\"\n",
    "\n",
    "cursor.execute(query)\n"
   ]
  },
  {
   "cell_type": "code",
   "execution_count": 12,
   "id": "5c95220c",
   "metadata": {},
   "outputs": [
    {
     "data": {
      "text/plain": [
       "[(13, 'Graves', 'Warren', 'Chief Of Staff', 193125.0, 2011),\n",
       " (7, 'GRAY', 'VINCENT', 'Mayor', 200000.0, 2005),\n",
       " (50, 'Rahman', 'Umar', 'Medical Officer (psychiatry)', 166370.0, 1996),\n",
       " (15, 'Jones', 'Tyler', 'Medical Officer Psych', 190550.0, 2008),\n",
       " (58, 'Bellamy', 'Terry', 'Director', 165000.0, 2008),\n",
       " (33, 'Gore', 'T', 'Medical Officer (psychiatry)', 172101.0, 2005),\n",
       " (35, 'Atdjian', 'Sylvia', 'Medical Officer (psychiatry)', 170938.0, 2007),\n",
       " (36, 'Zaidi', 'Syed', 'Medical Officer (psychiatry)', 170344.0, 2005),\n",
       " (52, 'Zaidi', 'Syed', 'Medical Officer General Practi', 165842.0, 1983),\n",
       " (55, 'Cordi', 'Stephen', 'Deputy Cfo Otr', 165162.0, 2008),\n",
       " (61, 'Altaf', 'Samia', 'Supervisor Medical Officer', 164800.0, 2010),\n",
       " (48, 'Akhtar', 'Saleha', 'Medical Officer (psychiatry)', 166995.0, 1988),\n",
       " (37, 'Sherron', 'Robert', 'Medical Officer (psychiatry)', 170344.0, 1991),\n",
       " (42, 'Mancini', 'Robert', 'Acting Director', 170000.0, 2004),\n",
       " (17, 'Eure', 'Philip', 'Executive Director', 188692.0, 2000),\n",
       " (25, 'Quander', 'Paul', 'Deputy Mayor', 185000.0, 2009),\n",
       " (19, 'Yadao', 'Nilda', 'Medical Officer (psychiatry)', 188027.0, 1987),\n",
       " (38, 'Johnson', 'Nicole', 'Medical Officer (psychiatry)', 170344.0, 2007),\n",
       " (9, 'Gandhi', 'Natwar', 'Chief Financial Officer', 199700.0, 1997),\n",
       " (40, 'Beers', 'Nathaniel', 'Deputy Superintendent', 170000.0, 2007),\n",
       " (44, 'Davenport', 'Nancy', 'Administrative Librarian', 167200.0, 2006),\n",
       " (59, 'West', 'Millicent', 'Director, Homeland Sec & Ema', 165000.0, 2003),\n",
       " (30, 'Williamson', 'Michael', 'Deputy Director', 182000.0, 2011),\n",
       " (31, 'White', 'Mattie', 'Medical Officer (psychiatry)', 180604.0, 1989),\n",
       " (23, 'Farley', 'Mark', 'Vp, Human Resources', 186911.0, 2008),\n",
       " (26, 'Pierre', 'Louis Marie', 'Chief Medical Examiner', 185000.0, 1985),\n",
       " (56, 'Mallory', 'Lisa', 'Acting Director', 165000.0, 2004),\n",
       " (41, 'Nuss', 'Laura', 'Director', 170000.0, 2007),\n",
       " (10, 'DUNCAN', 'LORETTA', 'Workers Compensation Recipient', 197808.0, 1984),\n",
       " (39, 'RUDA', 'LISA', 'Chief Of Staff', 170000.0, 2007),\n",
       " (32, 'Park', 'Kyung', 'Medical Officer (psychiatry)', 180604.0, 1987),\n",
       " (46, 'Stevens', 'KyleeAnn', 'Medical Officer (psychiatry)', 167051.0, 2008),\n",
       " (20, 'Ellerbe', 'Kenneth', 'Fire Chief', 187302.0, 2003),\n",
       " (47, 'Smothers', 'Kenneth', 'Medical Officer (psychiatry)', 166995.0, 1987),\n",
       " (53, 'Jackson', 'Kenneth', 'Assistant Fire Chief Srvs', 165306.0, 1982),\n",
       " (8, 'Marshall', 'Katherine', 'Medical Officer Psych', 200000.0, 2008),\n",
       " (62, 'Owens', 'Karen', 'Dental Officer', 164800.0, 1989),\n",
       " (16, 'BROWN', 'KWAME', 'Chairman', 190000.0, 2005),\n",
       " (3, 'HENDERSON', 'KAYATANYA', 'Superintendent Of Schools', 275000.0, 2007),\n",
       " (27,\n",
       "  'Pestaner',\n",
       "  'Joseph',\n",
       "  'Medical Officer (medical Examiner)',\n",
       "  183892.0,\n",
       "  1997),\n",
       " (29, 'Morgan', 'Johnson Sheila', 'Chief Investment Officer', 183677.0, 1991),\n",
       " (21, 'Ruland', 'Jeffrey', 'Dir Of The Ctr For Wf Str & Ec', 186911.0, 2009),\n",
       " (43, 'Wicker', 'Henry', 'Medical Officer Opthalmologist', 168378.0, 1987),\n",
       " (60, 'Pappas', 'Gregory', 'Deputy Dir', 164800.0, 2011),\n",
       " (11, 'Baxter', 'Graeme', 'Act Provost & Vp Acd Aff', 196257.0, 2008),\n",
       " (18, 'Cooper', 'Ginnie', 'Executive Director', 188044.0, 2006),\n",
       " (14, 'Stanchfield', 'Eric', 'Executive Director', 193125.0, 2007),\n",
       " (6, 'Ritchie', 'Elspeth', 'Medical Officer Psych', 206000.0, 2010),\n",
       " (12, 'Miramontes', 'David', 'Medical Director', 193125.0, 2011),\n",
       " (54, 'Berns', 'David', 'Dir Of Human Services', 165200.0, 2011),\n",
       " (22, 'Parker', 'Craig', 'General Counsel', 186911.0, 2009),\n",
       " (4, 'Lanier', 'Cathy', 'Chief', 230743.0, 19090),\n",
       " (28,\n",
       "  'Revercomb',\n",
       "  'Carolyn',\n",
       "  'Medical Officer (medical Examiner)',\n",
       "  183892.0,\n",
       "  2005),\n",
       " (57, 'Flowers', 'Brian', 'General Counsel', 165000.0, 1985),\n",
       " (5, 'Arons', 'Bernard', 'Medical Officer Psych', 206000.0, 2008),\n",
       " (51, 'Adewale', 'Benjamin', 'Medical Officer (psychiatry)', 166370.0, 1988),\n",
       " (24, 'Otero', 'Beatriz', 'Dep Mayor For Hlth & Hum Svcs', 185000.0, 2011),\n",
       " (34, 'LUDWIG', 'BENJAMIN', 'Workers Compensation Recipient', 171517.0, 1972),\n",
       " (49, 'Singh', 'Anjali', 'Medical Officer (psychiatry)', 166370.0, 1999),\n",
       " (1, 'Lew', 'Allen', 'City Administrator', 295000.0, 2004),\n",
       " (2, 'Sessoms', 'Allen', 'President', 295000.0, 2008),\n",
       " (45, 'Jaji', 'Abayomi', 'Medical Officer (psychiatry)', 167062.0, 2000)]"
      ]
     },
     "execution_count": 12,
     "metadata": {},
     "output_type": "execute_result"
    }
   ],
   "source": [
    "query_result = cursor.fetchall()\n",
    "query_result"
   ]
  },
  {
   "cell_type": "markdown",
   "id": "e25c985e",
   "metadata": {},
   "source": [
    "### 3. Write a query that returns employees’ first_name, last_name and salary, for salary greater than 200,000."
   ]
  },
  {
   "cell_type": "code",
   "execution_count": 13,
   "id": "4c396cea",
   "metadata": {},
   "outputs": [
    {
     "data": {
      "text/plain": [
       "<sqlite3.Cursor at 0x19dc8070dc0>"
      ]
     },
     "execution_count": 13,
     "metadata": {},
     "output_type": "execute_result"
    }
   ],
   "source": [
    "query = \"\"\"\n",
    "SELECT first_name, last_name, salary\n",
    "FROM employee\n",
    "WHERE salary > 200000;\n",
    "\"\"\"\n",
    "\n",
    "cursor.execute(query)"
   ]
  },
  {
   "cell_type": "code",
   "execution_count": 14,
   "id": "ca622717",
   "metadata": {},
   "outputs": [
    {
     "data": {
      "text/plain": [
       "[('Allen', 'Lew', 295000.0),\n",
       " ('Allen', 'Sessoms', 295000.0),\n",
       " ('KAYATANYA', 'HENDERSON', 275000.0),\n",
       " ('Cathy', 'Lanier', 230743.0),\n",
       " ('Bernard', 'Arons', 206000.0),\n",
       " ('Elspeth', 'Ritchie', 206000.0)]"
      ]
     },
     "execution_count": 14,
     "metadata": {},
     "output_type": "execute_result"
    }
   ],
   "source": [
    "query_result = cursor.fetchall()\n",
    "query_result"
   ]
  },
  {
   "cell_type": "markdown",
   "id": "f1ea3583",
   "metadata": {},
   "source": [
    "### 4. Change of last name from RUDA  to Peter"
   ]
  },
  {
   "cell_type": "code",
   "execution_count": 15,
   "id": "b469019e",
   "metadata": {},
   "outputs": [
    {
     "data": {
      "text/plain": [
       "<sqlite3.Cursor at 0x19dc8070dc0>"
      ]
     },
     "execution_count": 15,
     "metadata": {},
     "output_type": "execute_result"
    }
   ],
   "source": [
    "query = \"\"\"\n",
    "UPDATE employee\n",
    "SET last_name = 'Peter'\n",
    "WHERE last_name = 'RUDA';\n",
    "\"\"\"\n",
    "cursor.execute(query)"
   ]
  },
  {
   "cell_type": "code",
   "execution_count": 16,
   "id": "def090a6",
   "metadata": {},
   "outputs": [
    {
     "data": {
      "text/plain": [
       "[(39, 'Peter', 'LISA', 'Chief Of Staff', 170000.0, 2007)]"
      ]
     },
     "execution_count": 16,
     "metadata": {},
     "output_type": "execute_result"
    }
   ],
   "source": [
    "# Check if name change is successful\n",
    "sql=\"\"\"\n",
    "SELECT * FROM employee\n",
    "WHERE last_name = 'Peter';\n",
    "\"\"\"\n",
    "cursor.execute(sql)\n",
    "result = cursor.fetchall()\n",
    "result"
   ]
  },
  {
   "cell_type": "markdown",
   "id": "d1886442",
   "metadata": {},
   "source": [
    "### 5.  Removes ‘KWAME’ from the database"
   ]
  },
  {
   "cell_type": "code",
   "execution_count": 17,
   "id": "f239d3c4",
   "metadata": {},
   "outputs": [
    {
     "name": "stdout",
     "output_type": "stream",
     "text": [
      "Kwame no longer works here.\n"
     ]
    }
   ],
   "source": [
    "sql = \"\"\"\n",
    "DELETE FROM employee\n",
    "WHERE first_name = 'KWAME';\n",
    "\"\"\"\n",
    "cursor.execute(sql)\n",
    "print(\"Kwame no longer works here.\")"
   ]
  },
  {
   "cell_type": "code",
   "execution_count": 18,
   "id": "24cb92d0",
   "metadata": {},
   "outputs": [
    {
     "data": {
      "text/plain": [
       "<sqlite3.Cursor at 0x19dc8070dc0>"
      ]
     },
     "execution_count": 18,
     "metadata": {},
     "output_type": "execute_result"
    }
   ],
   "source": [
    "sql = \"\"\"\n",
    "SELECT * FROM employee;\n",
    "\"\"\"\n",
    "cursor.execute(sql)"
   ]
  },
  {
   "cell_type": "code",
   "execution_count": 19,
   "id": "22110103",
   "metadata": {},
   "outputs": [
    {
     "data": {
      "text/plain": [
       "[(1, 'Lew', 'Allen', 'City Administrator', 295000.0, 2004),\n",
       " (2, 'Sessoms', 'Allen', 'President', 295000.0, 2008),\n",
       " (3, 'HENDERSON', 'KAYATANYA', 'Superintendent Of Schools', 275000.0, 2007),\n",
       " (4, 'Lanier', 'Cathy', 'Chief', 230743.0, 19090),\n",
       " (5, 'Arons', 'Bernard', 'Medical Officer Psych', 206000.0, 2008),\n",
       " (6, 'Ritchie', 'Elspeth', 'Medical Officer Psych', 206000.0, 2010),\n",
       " (7, 'GRAY', 'VINCENT', 'Mayor', 200000.0, 2005),\n",
       " (8, 'Marshall', 'Katherine', 'Medical Officer Psych', 200000.0, 2008),\n",
       " (9, 'Gandhi', 'Natwar', 'Chief Financial Officer', 199700.0, 1997),\n",
       " (10, 'DUNCAN', 'LORETTA', 'Workers Compensation Recipient', 197808.0, 1984),\n",
       " (11, 'Baxter', 'Graeme', 'Act Provost & Vp Acd Aff', 196257.0, 2008),\n",
       " (12, 'Miramontes', 'David', 'Medical Director', 193125.0, 2011),\n",
       " (13, 'Graves', 'Warren', 'Chief Of Staff', 193125.0, 2011),\n",
       " (14, 'Stanchfield', 'Eric', 'Executive Director', 193125.0, 2007),\n",
       " (15, 'Jones', 'Tyler', 'Medical Officer Psych', 190550.0, 2008),\n",
       " (17, 'Eure', 'Philip', 'Executive Director', 188692.0, 2000),\n",
       " (18, 'Cooper', 'Ginnie', 'Executive Director', 188044.0, 2006),\n",
       " (19, 'Yadao', 'Nilda', 'Medical Officer (psychiatry)', 188027.0, 1987),\n",
       " (20, 'Ellerbe', 'Kenneth', 'Fire Chief', 187302.0, 2003),\n",
       " (21, 'Ruland', 'Jeffrey', 'Dir Of The Ctr For Wf Str & Ec', 186911.0, 2009),\n",
       " (22, 'Parker', 'Craig', 'General Counsel', 186911.0, 2009),\n",
       " (23, 'Farley', 'Mark', 'Vp, Human Resources', 186911.0, 2008),\n",
       " (24, 'Otero', 'Beatriz', 'Dep Mayor For Hlth & Hum Svcs', 185000.0, 2011),\n",
       " (25, 'Quander', 'Paul', 'Deputy Mayor', 185000.0, 2009),\n",
       " (26, 'Pierre', 'Louis Marie', 'Chief Medical Examiner', 185000.0, 1985),\n",
       " (27,\n",
       "  'Pestaner',\n",
       "  'Joseph',\n",
       "  'Medical Officer (medical Examiner)',\n",
       "  183892.0,\n",
       "  1997),\n",
       " (28,\n",
       "  'Revercomb',\n",
       "  'Carolyn',\n",
       "  'Medical Officer (medical Examiner)',\n",
       "  183892.0,\n",
       "  2005),\n",
       " (29, 'Morgan', 'Johnson Sheila', 'Chief Investment Officer', 183677.0, 1991),\n",
       " (30, 'Williamson', 'Michael', 'Deputy Director', 182000.0, 2011),\n",
       " (31, 'White', 'Mattie', 'Medical Officer (psychiatry)', 180604.0, 1989),\n",
       " (32, 'Park', 'Kyung', 'Medical Officer (psychiatry)', 180604.0, 1987),\n",
       " (33, 'Gore', 'T', 'Medical Officer (psychiatry)', 172101.0, 2005),\n",
       " (34, 'LUDWIG', 'BENJAMIN', 'Workers Compensation Recipient', 171517.0, 1972),\n",
       " (35, 'Atdjian', 'Sylvia', 'Medical Officer (psychiatry)', 170938.0, 2007),\n",
       " (36, 'Zaidi', 'Syed', 'Medical Officer (psychiatry)', 170344.0, 2005),\n",
       " (37, 'Sherron', 'Robert', 'Medical Officer (psychiatry)', 170344.0, 1991),\n",
       " (38, 'Johnson', 'Nicole', 'Medical Officer (psychiatry)', 170344.0, 2007),\n",
       " (39, 'Peter', 'LISA', 'Chief Of Staff', 170000.0, 2007),\n",
       " (40, 'Beers', 'Nathaniel', 'Deputy Superintendent', 170000.0, 2007),\n",
       " (41, 'Nuss', 'Laura', 'Director', 170000.0, 2007),\n",
       " (42, 'Mancini', 'Robert', 'Acting Director', 170000.0, 2004),\n",
       " (43, 'Wicker', 'Henry', 'Medical Officer Opthalmologist', 168378.0, 1987),\n",
       " (44, 'Davenport', 'Nancy', 'Administrative Librarian', 167200.0, 2006),\n",
       " (45, 'Jaji', 'Abayomi', 'Medical Officer (psychiatry)', 167062.0, 2000),\n",
       " (46, 'Stevens', 'KyleeAnn', 'Medical Officer (psychiatry)', 167051.0, 2008),\n",
       " (47, 'Smothers', 'Kenneth', 'Medical Officer (psychiatry)', 166995.0, 1987),\n",
       " (48, 'Akhtar', 'Saleha', 'Medical Officer (psychiatry)', 166995.0, 1988),\n",
       " (49, 'Singh', 'Anjali', 'Medical Officer (psychiatry)', 166370.0, 1999),\n",
       " (50, 'Rahman', 'Umar', 'Medical Officer (psychiatry)', 166370.0, 1996),\n",
       " (51, 'Adewale', 'Benjamin', 'Medical Officer (psychiatry)', 166370.0, 1988),\n",
       " (52, 'Zaidi', 'Syed', 'Medical Officer General Practi', 165842.0, 1983),\n",
       " (53, 'Jackson', 'Kenneth', 'Assistant Fire Chief Srvs', 165306.0, 1982),\n",
       " (54, 'Berns', 'David', 'Dir Of Human Services', 165200.0, 2011),\n",
       " (55, 'Cordi', 'Stephen', 'Deputy Cfo Otr', 165162.0, 2008),\n",
       " (56, 'Mallory', 'Lisa', 'Acting Director', 165000.0, 2004),\n",
       " (57, 'Flowers', 'Brian', 'General Counsel', 165000.0, 1985),\n",
       " (58, 'Bellamy', 'Terry', 'Director', 165000.0, 2008),\n",
       " (59, 'West', 'Millicent', 'Director, Homeland Sec & Ema', 165000.0, 2003),\n",
       " (60, 'Pappas', 'Gregory', 'Deputy Dir', 164800.0, 2011),\n",
       " (61, 'Altaf', 'Samia', 'Supervisor Medical Officer', 164800.0, 2010),\n",
       " (62, 'Owens', 'Karen', 'Dental Officer', 164800.0, 1989)]"
      ]
     },
     "execution_count": 19,
     "metadata": {},
     "output_type": "execute_result"
    }
   ],
   "source": [
    "result = cursor.fetchall()\n",
    "result"
   ]
  },
  {
   "cell_type": "markdown",
   "id": "295922e5",
   "metadata": {},
   "source": [
    "### 6. Renames the column “Position” to “job_role”"
   ]
  },
  {
   "cell_type": "code",
   "execution_count": 23,
   "id": "0b89bfa5",
   "metadata": {},
   "outputs": [
    {
     "name": "stdout",
     "output_type": "stream",
     "text": [
      "Column Postion has been renamed to Job role\n"
     ]
    }
   ],
   "source": [
    "sql =\"\"\"\n",
    "ALTER TABLE employee\n",
    "RENAME COLUMN postion TO job_role;\n",
    "\n",
    "\"\"\" \n",
    "cursor.execute(sql)\n",
    "\n",
    "print(\"Column Postion has been renamed to Job role\")\n"
   ]
  },
  {
   "cell_type": "markdown",
   "id": "bce0b92e",
   "metadata": {},
   "source": [
    "### 7."
   ]
  },
  {
   "cell_type": "code",
   "execution_count": 32,
   "id": "ef8ee021",
   "metadata": {},
   "outputs": [
    {
     "data": {
      "text/plain": [
       "[(60, 'Gregory', 'Pappas', 164800.0),\n",
       " (61, 'Samia', 'Altaf', 164800.0),\n",
       " (62, 'Karen', 'Owens', 164800.0),\n",
       " (56, 'Lisa', 'Mallory', 165000.0),\n",
       " (57, 'Brian', 'Flowers', 165000.0),\n",
       " (58, 'Terry', 'Bellamy', 165000.0),\n",
       " (59, 'Millicent', 'West', 165000.0),\n",
       " (55, 'Stephen', 'Cordi', 165162.0),\n",
       " (54, 'David', 'Berns', 165200.0),\n",
       " (53, 'Kenneth', 'Jackson', 165306.0),\n",
       " (52, 'Syed', 'Zaidi', 165842.0),\n",
       " (49, 'Anjali', 'Singh', 166370.0),\n",
       " (50, 'Umar', 'Rahman', 166370.0),\n",
       " (51, 'Benjamin', 'Adewale', 166370.0),\n",
       " (47, 'Kenneth', 'Smothers', 166995.0),\n",
       " (48, 'Saleha', 'Akhtar', 166995.0),\n",
       " (46, 'KyleeAnn', 'Stevens', 167051.0),\n",
       " (45, 'Abayomi', 'Jaji', 167062.0),\n",
       " (44, 'Nancy', 'Davenport', 167200.0),\n",
       " (43, 'Henry', 'Wicker', 168378.0),\n",
       " (39, 'LISA', 'Peter', 170000.0),\n",
       " (40, 'Nathaniel', 'Beers', 170000.0),\n",
       " (41, 'Laura', 'Nuss', 170000.0),\n",
       " (42, 'Robert', 'Mancini', 170000.0),\n",
       " (36, 'Syed', 'Zaidi', 170344.0),\n",
       " (37, 'Robert', 'Sherron', 170344.0),\n",
       " (38, 'Nicole', 'Johnson', 170344.0),\n",
       " (35, 'Sylvia', 'Atdjian', 170938.0),\n",
       " (34, 'BENJAMIN', 'LUDWIG', 171517.0),\n",
       " (33, 'T', 'Gore', 172101.0),\n",
       " (31, 'Mattie', 'White', 180604.0),\n",
       " (32, 'Kyung', 'Park', 180604.0),\n",
       " (30, 'Michael', 'Williamson', 182000.0),\n",
       " (29, 'Johnson Sheila', 'Morgan', 183677.0),\n",
       " (27, 'Joseph', 'Pestaner', 183892.0),\n",
       " (28, 'Carolyn', 'Revercomb', 183892.0),\n",
       " (24, 'Beatriz', 'Otero', 185000.0),\n",
       " (25, 'Paul', 'Quander', 185000.0),\n",
       " (26, 'Louis Marie', 'Pierre', 185000.0),\n",
       " (21, 'Jeffrey', 'Ruland', 186911.0),\n",
       " (22, 'Craig', 'Parker', 186911.0),\n",
       " (23, 'Mark', 'Farley', 186911.0),\n",
       " (20, 'Kenneth', 'Ellerbe', 187302.0),\n",
       " (19, 'Nilda', 'Yadao', 188027.0),\n",
       " (18, 'Ginnie', 'Cooper', 188044.0),\n",
       " (17, 'Philip', 'Eure', 188692.0),\n",
       " (15, 'Tyler', 'Jones', 190550.0),\n",
       " (12, 'David', 'Miramontes', 193125.0),\n",
       " (13, 'Warren', 'Graves', 193125.0),\n",
       " (14, 'Eric', 'Stanchfield', 193125.0),\n",
       " (11, 'Graeme', 'Baxter', 196257.0),\n",
       " (10, 'LORETTA', 'DUNCAN', 197808.0),\n",
       " (9, 'Natwar', 'Gandhi', 199700.0),\n",
       " (7, 'VINCENT', 'GRAY', 200000.0),\n",
       " (8, 'Katherine', 'Marshall', 200000.0),\n",
       " (5, 'Bernard', 'Arons', 206000.0),\n",
       " (6, 'Elspeth', 'Ritchie', 206000.0),\n",
       " (4, 'Cathy', 'Lanier', 230743.0),\n",
       " (3, 'KAYATANYA', 'HENDERSON', 275000.0),\n",
       " (1, 'Allen', 'Lew', 295000.0),\n",
       " (2, 'Allen', 'Sessoms', 295000.0)]"
      ]
     },
     "execution_count": 32,
     "metadata": {},
     "output_type": "execute_result"
    }
   ],
   "source": [
    "query = \"\"\"\n",
    "SELECT employee_id, first_name AS NAME, last_name AS NAME, salary FROM employee\n",
    "ORDER BY salary;\n",
    "\"\"\"\n",
    "\n",
    "cursor.execute(query)\n",
    "\n",
    "query_result = cursor.fetchall()\n",
    "query_result"
   ]
  },
  {
   "cell_type": "markdown",
   "id": "7123f6dc",
   "metadata": {},
   "source": [
    "### 8. The count of employees whose salaries are greater than 200,000"
   ]
  },
  {
   "cell_type": "code",
   "execution_count": 34,
   "id": "40c54ac7",
   "metadata": {},
   "outputs": [
    {
     "data": {
      "text/plain": [
       "[(6,)]"
      ]
     },
     "execution_count": 34,
     "metadata": {},
     "output_type": "execute_result"
    }
   ],
   "source": [
    "query = \"\"\"\n",
    "SELECT COUNT(*)\n",
    "FROM employee\n",
    "WHERE salary > 200000;\n",
    "\"\"\"\n",
    "\n",
    "cursor.execute(query)\n",
    "\n",
    "query_result = cursor.fetchall()\n",
    "query_result"
   ]
  },
  {
   "cell_type": "markdown",
   "id": "f959115b",
   "metadata": {},
   "source": [
    "### 9. Query to get the maximum and minimum salary from the employees table"
   ]
  },
  {
   "cell_type": "code",
   "execution_count": 35,
   "id": "c16d334e",
   "metadata": {},
   "outputs": [
    {
     "data": {
      "text/plain": [
       "[(295000.0,)]"
      ]
     },
     "execution_count": 35,
     "metadata": {},
     "output_type": "execute_result"
    }
   ],
   "source": [
    "# Maximum salary\n",
    "\n",
    "query = \"\"\"\n",
    "SELECT MAX(salary)\n",
    "FROM employee;\n",
    "\"\"\"\n",
    "cursor.execute(query)\n",
    "\n",
    "query_result = cursor.fetchall()\n",
    "query_result"
   ]
  },
  {
   "cell_type": "code",
   "execution_count": 36,
   "id": "553292fc",
   "metadata": {},
   "outputs": [
    {
     "data": {
      "text/plain": [
       "[(164800.0,)]"
      ]
     },
     "execution_count": 36,
     "metadata": {},
     "output_type": "execute_result"
    }
   ],
   "source": [
    "# Minimum salary\n",
    "query = \"\"\"\n",
    "SELECT MIN(salary)\n",
    "FROM employee;\n",
    "\"\"\"\n",
    "\n",
    "cursor.execute(query)\n",
    "\n",
    "query_result = cursor.fetchall()\n",
    "query_result"
   ]
  },
  {
   "cell_type": "code",
   "execution_count": 37,
   "id": "ad777af7",
   "metadata": {},
   "outputs": [],
   "source": [
    "conn.commit()"
   ]
  },
  {
   "cell_type": "code",
   "execution_count": 38,
   "id": "40aae69e",
   "metadata": {},
   "outputs": [],
   "source": [
    "conn.close()"
   ]
  },
  {
   "cell_type": "code",
   "execution_count": null,
   "id": "4eab835b",
   "metadata": {},
   "outputs": [],
   "source": []
  }
 ],
 "metadata": {
  "kernelspec": {
   "display_name": "Python 3 (ipykernel)",
   "language": "python",
   "name": "python3"
  },
  "language_info": {
   "codemirror_mode": {
    "name": "ipython",
    "version": 3
   },
   "file_extension": ".py",
   "mimetype": "text/x-python",
   "name": "python",
   "nbconvert_exporter": "python",
   "pygments_lexer": "ipython3",
   "version": "3.9.13"
  }
 },
 "nbformat": 4,
 "nbformat_minor": 5
}
